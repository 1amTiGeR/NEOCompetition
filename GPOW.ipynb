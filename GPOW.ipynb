{
 "cells": [
  {
   "cell_type": "markdown",
   "metadata": {},
   "source": [
    "# General Proof of Work and Share Economy\n",
    "\n",
    "\n",
    "\n",
    "## 1. Prerequisite\n",
    "\n",
    "### 1.1 Sustainable Symmetric Key\n",
    "\n",
    "By leverage the power of distributed ledger, the conventional secured connection techniques such as HTTPS/SSL can be drastically simplified. \n",
    "\n",
    "Say we have $N_A$ and $N_B$ with the public key and private key to be ($PU_A$,$PV_A$) and ($PU_B$, $PV_B$) respectively,  the below steps are only required to be excuted only once for all. \n",
    "\n",
    "1. $N_A$ generate a symmetric key $K_S$ (a.k.a. **Sustainable Symmetric Key** or **SSK** ). \n",
    "2. $N_A$ uses $PU_B$ and asymmetric encoding algorithm $E$, metadata $\\lambda$ and signiture function $Sig$ to generate the message $M = Sig(E(PU_B, \\lambda),PV_A)$ , then boardcasts $M$ to blockchain. \n",
    "\n",
    "After that, $N_A$ and  $N_B$ can directly use $K_S$ to encrypt/decrypt the traffic without asymmetric handshake, no matter onchain or offchain.\n",
    "\n",
    "\n",
    "\n",
    "## 2. GPoW Network and GECV functions\n",
    "\n",
    "### 2.1 Definition\n",
    "\n",
    "We call a distributed consensus network, regardless which consensus algorithm it based on, a **GPoW compatiable network**, if it:\n",
    "\n",
    "1. has a set $\\Upsilon$ with $n$ types of predefined or later registered tasks: $\\Upsilon$ = {$T_n$}, $n \\ge 1$. For any $i \\in [1, n]$,  we have $T_i \\equiv$  {$G_i, E_i, O_i, V_i $}, where $G_i, E_i, O_i$ and $V_i$ (a.k.a **GEOV functions**) are functions with particular characters discussed in *Session 1.2*,\n",
    "2. has a fixed function $P$ to randomly pick up some nodes,\n",
    "3. optionally supports *Sustainable Symmetric Key* introduced in *Chapter III*,\n",
    "\n",
    "In Chapter II to Chapter IV, we'll prove that \n",
    "\n",
    "\n",
    "### 1.2 GEOV Task life cycle and GECV functions\n",
    "A typical life cycle of task instance $\\tau \\in T_i$ is described below:\n",
    "1. At beginning, node $N_A$ tries to initiate $\\tau$ by excuting $G_i$(a.k.a. **Task Generation Function**),  $(\\vec{p},\\vec{q})=G_i(\\vec{r})$, where $\\vec{r}$ as $N_A$'s input.\n",
    "2. $N_A$ calls $P$ to pick up $m$ random nodes $N_{v_1},… N_{v_m}$.  Then generate message by following algorithm:\n",
    "3. ​\n",
    "\n",
    "\n",
    "\n",
    "\n",
    "\n",
    "\n",
    "## IV. Choosing Service Node\n",
    "\n",
    "\n",
    "\n",
    "## 3. FAQ\n",
    "\n",
    "1. ​"
   ]
  },
  {
   "cell_type": "code",
   "execution_count": null,
   "metadata": {
    "collapsed": true
   },
   "outputs": [],
   "source": []
  }
 ],
 "metadata": {
  "kernelspec": {
   "display_name": "Python 3",
   "language": "python",
   "name": "python3"
  },
  "language_info": {
   "codemirror_mode": {
    "name": "ipython",
    "version": 3
   },
   "file_extension": ".py",
   "mimetype": "text/x-python",
   "name": "python",
   "nbconvert_exporter": "python",
   "pygments_lexer": "ipython3",
   "version": "3.6.3"
  }
 },
 "nbformat": 4,
 "nbformat_minor": 2
}
