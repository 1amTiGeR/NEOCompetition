{
 "cells": [
  {
   "cell_type": "markdown",
   "metadata": {},
   "source": [
    "## General Proof of Work and Share Economy\n",
    "\n"
   ]
  },
  {
   "cell_type": "markdown",
   "metadata": {},
   "source": [
    "### Abstract"
   ]
  },
  {
   "cell_type": "markdown",
   "metadata": {},
   "source": [
    "### 1. Definition\n",
    "In following discussion, we assume Node running on a distributed consensus network, no matter what consensus algorithm the network actually implemented upon.\n",
    "The network, since genesis, has a list of the types of predefined GPoW Tasks.  Every instance t of any GPoW Task T is a mathmatic problem, which\n",
    "1. The initiator of t can be any node in the network, normal node or malicious node. For some Ts, input parameter vector \\dot{x} is mandatory or optional.\n",
    "   \n",
    "2. \n",
    "\n",
    "\n"
   ]
  },
  {
   "cell_type": "code",
   "execution_count": null,
   "metadata": {
    "collapsed": true
   },
   "outputs": [],
   "source": []
  }
 ],
 "metadata": {
  "kernelspec": {
   "display_name": "Python 3",
   "language": "python",
   "name": "python3"
  },
  "language_info": {
   "codemirror_mode": {
    "name": "ipython",
    "version": 3
   },
   "file_extension": ".py",
   "mimetype": "text/x-python",
   "name": "python",
   "nbconvert_exporter": "python",
   "pygments_lexer": "ipython3",
   "version": "3.6.3"
  }
 },
 "nbformat": 4,
 "nbformat_minor": 2
}
